{
 "cells": [
  {
   "cell_type": "markdown",
   "metadata": {},
   "source": [
    "## Logistic Regression"
   ]
  },
  {
   "cell_type": "code",
   "execution_count": 1,
   "metadata": {},
   "outputs": [],
   "source": [
    "import sys\n",
    "import numpy\n",
    "import pandas\n",
    "import matplotlib.pyplot as plt\n",
    "import numpy as np\n",
    "from sklearn import datasets"
   ]
  },
  {
   "cell_type": "markdown",
   "metadata": {},
   "source": [
    "## Load Data\n",
    "\n",
    "\n",
    "- datasets.load_iris() return:\n",
    "```json\n",
    "{\n",
    "    'data': array([[5.1, 3.5, 1.4, 0.2], [4.9, 3. , 1.4, 0.2] ... ]]),\n",
    "    'target': array([0, 0, 0, 0, 0]),\n",
    "    'target_names': array(['setosa', 'versicolor', 'virginica'], dtype='<U10'),\n",
    "    ...\n",
    "}\n",
    "\n",
    "```"
   ]
  },
  {
   "cell_type": "code",
   "execution_count": 2,
   "metadata": {},
   "outputs": [],
   "source": [
    "iris = datasets.load_iris()\n",
    "X = iris.data[:, :2]  # we only take the first two features.\n",
    "y = iris.target"
   ]
  },
  {
   "cell_type": "markdown",
   "metadata": {},
   "source": [
    "## 1. Slice data\n",
    "\n",
    "Data dilakukan slice dengan perbandingan 80:20 balance. 80% data pertama masuk ke data train, 20% data terakhir masuk ke data test."
   ]
  },
  {
   "cell_type": "code",
   "execution_count": 3,
   "metadata": {},
   "outputs": [],
   "source": [
    "# Data unique dari target\n",
    "target = np.unique(y)\n",
    "\n",
    "# Presentase Data train\n",
    "p_data_train = 80\n",
    "\n",
    "X_train = []\n",
    "y_train = []\n",
    "X_test = []\n",
    "y_test = []\n",
    "\n",
    "# loop sebanyak data target unik\n",
    "for i in target:\n",
    "    \n",
    "    # mengambil index data y yang sama dengan i\n",
    "    target_i = np.where(y == i)[0]\n",
    "    \n",
    "    # mencari index data 80% pertama dari setiap data unik y (target)\n",
    "    temp = int(len(target_i) * 80 / 100) + target_i[0]\n",
    "    for k in target_i:\n",
    "        \n",
    "        if k < temp:\n",
    "            # mengambil 80% data pertama sebagai data train\n",
    "            X_train.append(X[k])\n",
    "            y_train.append(y[k])\n",
    "        else:\n",
    "            # mengambil 20% data terakhir sebagai data test\n",
    "            X_test.append(X[k])\n",
    "            y_test.append(y[k])\n",
    "\n",
    "X_train = np.array(X_train)\n",
    "y_train = np.array(y_train)\n",
    "X_test = np.array(X_test)\n",
    "y_test = np.array(y_test)"
   ]
  },
  {
   "cell_type": "markdown",
   "metadata": {},
   "source": [
    "## 2. Visualize Training data"
   ]
  },
  {
   "cell_type": "code",
   "execution_count": 4,
   "metadata": {},
   "outputs": [
    {
     "data": {
      "image/png": "[encoded data removed]",
      "text/plain": [
       "<Figure size 360x288 with 2 Axes>"
      ]
     },
     "metadata": {
      "needs_background": "light"
     },
     "output_type": "display_data"
    }
   ],
   "source": [
    "x_index = 0\n",
    "y_index = 1\n",
    "\n",
    "# this formatter will label the colorbar with the correct target names\n",
    "formatter = plt.FuncFormatter(lambda i, *args: iris.target_names[int(i)])\n",
    "\n",
    "plt.figure(figsize=(5, 4))\n",
    "plt.scatter(X_train[:, x_index], X_train[:, y_index], c=y_train)\n",
    "plt.colorbar(ticks=[0, 1, 2], format=formatter)\n",
    "plt.xlabel(iris.feature_names[x_index])\n",
    "plt.ylabel(iris.feature_names[y_index])\n",
    "\n",
    "plt.tight_layout()\n",
    "plt.show()"
   ]
  },
  {
   "cell_type": "markdown",
   "metadata": {},
   "source": [
    "## 3. Sigmoid Function\n",
    "\n",
    "$$ g(z) = \\frac {1}{1 + e^{-z}} $$\n",
    "\n",
    "$$ h(\\theta) = \\theta^T x $$\n",
    "\n",
    "$$ z = \\theta^T x $$\n",
    "\n",
    "\n",
    "\n",
    "## 4. Cost Function dan Regularization\n",
    "\n",
    "$$ J(\\theta) = \\frac{1}{2m} \\sum_{i=1}^{m} (h_{\\theta}(x^{(i)}) - y^{(i)})^2 + \\frac{\\lambda}{2m} \\sum_{j=1}^{n} \\theta_{j} $$\n",
    "\n",
    "$$ J(\\theta) = - \\frac{1}{m} \\sum_{i=1}^{m}(y^{(i)} log(h_{\\theta}(x^{i}) + (1 - y^{(i)}) log(1 - h_\\theta(x^{(i)}))) + \\frac{\\lambda}{2m} \\sum_{j=1}{n} \\theta_{j}^2  $$\n",
    "\n",
    "## 5. Gradient Descent\n",
    "\n",
    "Without Regularization: \n",
    "$$ repeat \\ until \\ convergen \\ \\left\\{ \\ \\theta_{j} = \\theta_{j} - \\alpha \\frac{1}{m} \\sum_{i=1}^{m} (h_{\\theta} (x^{(i)}) - y^{(i)}) x_{j}^{(i)} \\ \\right. $$\n",
    "Dengan $ x_{0} = 1 $ dan $ j \\in \\{0, 1, 2, 3 ...\\} $\n",
    "\n",
    "With Regularization\n",
    "$$ repeat \\ until \\ convergence \\ \\left\\{ \\begin{array}\\\\ \\theta_{0} = \\theta_{0} - \\alpha \\frac{1}{m} \\sum_{i=1}^{m} (h_{\\theta} (x^{(i)}) - y^{(i)}) x_{0}^{(i)} \\\\ \\theta_{j} = \\theta_{j} - \\alpha \\frac{1}{m} (\\sum_{i=1}^{m} (h_{\\theta} (x^{(i)}) - y^{(i)}) x_{j}^{(i)} - \\lambda \\theta_{j}) \\end{array}\\\\ \\right. $$\n",
    "Dengan $ j \\in \\{1, 2, 3 ...\\} $"
   ]
  },
  {
   "cell_type": "code",
   "execution_count": 5,
   "metadata": {},
   "outputs": [],
   "source": [
    "class LogisticRegression():\n",
    "    \n",
    "    def __init__(self, lr=0.001, n_iter=100, regu=None, lb=100):\n",
    "        self.lr = lr\n",
    "        self.n_iter = n_iter\n",
    "        self.regu = regu\n",
    "        self.lb = lb\n",
    "        self.cost_score = []\n",
    "        \n",
    "    def sigmoid(self, Z):\n",
    "        '''\n",
    "        Sigmoid\n",
    "        \n",
    "        Parameters\n",
    "        ----------\n",
    "        Z : [z1, z2, z3, ...]\n",
    "        \n",
    "        Return\n",
    "        ------\n",
    "        [g1, g2, g3, ...]\n",
    "        \n",
    "        '''\n",
    "        Z = np.array(Z)\n",
    "        \n",
    "        return 1 / (1 + np.exp(-Z))\n",
    "    \n",
    "    def hypothesis(self, theta, X):\n",
    "        '''\n",
    "        Hyphotesis\n",
    "        \n",
    "        Parameters\n",
    "        ----------\n",
    "        theta : [[theta1], [theta2], ..] as matrix\n",
    "        \n",
    "        X : [[x1, x2, x3, x4 .. xn], [x1, x2, x3, x4 .. xn]] matrix\n",
    "        \n",
    "        Return\n",
    "        ------\n",
    "        [h1, h2, h3 ...]\n",
    "        '''\n",
    "        theta = np.array(theta)\n",
    "        X = np.array(X)\n",
    "        \n",
    "        return np.matmul(theta.T, X).flatten()\n",
    "    \n",
    "    def cost(self, theta, h, y):\n",
    "        '''\n",
    "        Cost\n",
    "        \n",
    "        Parameters\n",
    "        ----------\n",
    "        theta : [[theta1], [theta2], ..]\n",
    "        \n",
    "        h : [h1, h2, h3 ...]\n",
    "        \n",
    "        y : [0, 0, 0, 1, 1, 2, 2, 2 ...]\n",
    "        \n",
    "        self.lb : lambda untuk regularization\n",
    "        \n",
    "        Return\n",
    "        ------\n",
    "        float\n",
    "        '''\n",
    "        theta = theta.flatten()\n",
    "        m = len(y)\n",
    "        \n",
    "        # persamaan tanpa regularization\n",
    "        j = -(np.sum(y * np.log(h) + (1 - y) * np.log(1 - h)) / m)\n",
    "        if self.regu is not None:\n",
    "            if self.regu == 'l2':\n",
    "                # Theta 0 tidak kena regularization\n",
    "                exc_theta = theta[1:len(theta)]\n",
    "                square_theta = np.power(exc_theta, 2)\n",
    "                \n",
    "                # dengan regularization\n",
    "                j = j + self.lb * np.sum(square_theta) / (2 * m)\n",
    "        return j\n",
    "    \n",
    "    \n",
    "    def gradientDescent(self, X, y, theta, lr):\n",
    "        '''\n",
    "        Gradient descent\n",
    "        \n",
    "        Parameters\n",
    "        ----------\n",
    "        X : [[x1, x2, x3, x4 .. xn], [x1, x2, x3, x4 .. xn]] matrix\n",
    "        \n",
    "        y : [0, 0, 0, 1, 1, 2, 2, 2 ...]\n",
    "                \n",
    "        theta : [[theta1], [theta2], ..] as matrix\n",
    "        \n",
    "        Return\n",
    "        ------\n",
    "        [t1, t2, t3 ...]\n",
    "        \n",
    "        '''\n",
    "        new_theta = theta.flatten()\n",
    "        m = len(y)\n",
    "        cs = []\n",
    "        for i in range(self.n_iter):\n",
    "            # Hyphotesis dan sigmoid\n",
    "            z = self.hypothesis(np.array([new_theta]).T, X.T)\n",
    "            g = self.sigmoid(z)\n",
    "            \n",
    "            # hypotesisi - y\n",
    "            c = g - y\n",
    "            \n",
    "            # simultaneous update\n",
    "            old_theta = new_theta\n",
    "            new_theta = []\n",
    "            \n",
    "            # Update setiap theta\n",
    "            for theta_i in range(len(old_theta)):\n",
    "                sigma = 0\n",
    "                \n",
    "                # hitung sigma pada persamaan\n",
    "                for c_i, x_i in zip(c, X):\n",
    "                    sigma += c_i * x_i[theta_i]\n",
    "                    \n",
    "                # jika menggunakan regularization\n",
    "                if self.regu is not None and self.regu == 'l2' and theta_i != 0:\n",
    "                    new_theta.append(old_theta[theta_i] - (lr / m) * (sigma + self.lb * old_theta[theta_i]))\n",
    "                else:\n",
    "                    new_theta.append(old_theta[theta_i] - lr * sigma / m)\n",
    "            cs.append(self.cost(np.array([new_theta]).T, g, y))\n",
    "        \n",
    "        self.cost_score.append(cs)\n",
    "        return new_theta\n",
    "        \n",
    "    \n",
    "    def fit(self, X, y):\n",
    "        '''\n",
    "        Function fit\n",
    "        \n",
    "        Parameters\n",
    "        ----------\n",
    "        X : [[x1, x2, x3, x4 .. xn], [x1, x2, x3, x4 .. xn]]\n",
    "        \n",
    "        y : [0, 0, 0, 1, 1, 2, 2, 2 ...]\n",
    "\n",
    "        '''\n",
    "        # menambah index 0 setiap feature dengan nilai 1\n",
    "        X = np.insert(X, 0, 1, axis=1)\n",
    "        self.theta = []\n",
    "        \n",
    "        # one vs Rest method\n",
    "        for i in np.unique(y):\n",
    "            y_copy = np.where(y == i, 1, 0)\n",
    "            theta = np.zeros((X.shape[1], 1))\n",
    "            \n",
    "            # mencari gradient descent\n",
    "            self.theta.append(self.gradientDescent(X, y_copy, theta, self.lr))\n",
    "            \n",
    "        return self.theta\n",
    "    \n",
    "    def predict_prob(self, X):\n",
    "        '''\n",
    "        Predict Probability\n",
    "        \n",
    "        Parameters\n",
    "        ----------\n",
    "        \n",
    "        X : [[x1, x2, x3, x4 .. xn], [x1, x2, x3, x4 .. xn]]\n",
    "        \n",
    "        Return\n",
    "        ------\n",
    "        [[probtheta1, probtheta2, probtheta3]]\n",
    "        \n",
    "        '''\n",
    "        # menambahkan feature ke 0 dengan angka 1\n",
    "        X = np.insert(X, 0, 1, axis=1)\n",
    "        prob = []\n",
    "        \n",
    "        # menghitung probabilitas dengan sigmoid\n",
    "        for t in self.theta:\n",
    "            t_np = np.array([t]).T\n",
    "            z = self.hypothesis(t_np, X.T)\n",
    "            h = self.sigmoid(z)\n",
    "            prob.append(h)\n",
    "        prob = np.array(prob)\n",
    "        prob = prob.T\n",
    "        return prob\n",
    "    \n",
    "    def predict(self, X):\n",
    "        '''\n",
    "        Prediction\n",
    "        \n",
    "        Parameter\n",
    "        ---------\n",
    "        \n",
    "        X : [[x1, x2, x3, x4 .. xn], [x1, x2, x3, x4 .. xn]]\n",
    "        \n",
    "        Return\n",
    "        ------\n",
    "        \n",
    "        [class, class, class]\n",
    "        '''\n",
    "        # Mencari probabilitas prediksi\n",
    "        k = self.predict_prob(X)\n",
    "        has = []\n",
    "        for i in k:\n",
    "            # Probabilitas terbesar adalah prediksinya\n",
    "            index = np.where(i == np.amax(i))[0]\n",
    "            has.append(index)\n",
    "        return has"
   ]
  },
  {
   "cell_type": "markdown",
   "metadata": {},
   "source": [
    "\n",
    "## 6. Train Logistic Regression algorithm on the training data, set learning rate: 0.001 and maximum iteration: 100"
   ]
  },
  {
   "cell_type": "code",
   "execution_count": 6,
   "metadata": {},
   "outputs": [
    {
     "data": {
      "text/plain": [
       "[[0.17073949611905145, -0.6989295493716644, 1.0053230671446127],\n",
       " [-0.008817448047496474, 0.15609654420176614, -0.5310958062785978],\n",
       " [-0.29183969603011295, 0.2961085251883072, -0.6719577812298043]]"
      ]
     },
     "execution_count": 6,
     "metadata": {},
     "output_type": "execute_result"
    }
   ],
   "source": [
    "log_regu = LogisticRegression(lr=0.1, n_iter=100, regu='l2', lb=10)\n",
    "theta = log_regu.fit(X_train, y_train)\n",
    "theta"
   ]
  },
  {
   "cell_type": "markdown",
   "metadata": {},
   "source": [
    "## 7. Plot the decision boundary using matplotlib."
   ]
  },
  {
   "cell_type": "code",
   "execution_count": 7,
   "metadata": {},
   "outputs": [
    {
     "data": {
      "image/png": "[encoded data removed]",
      "text/plain": [
       "<Figure size 360x288 with 2 Axes>"
      ]
     },
     "metadata": {
      "needs_background": "light"
     },
     "output_type": "display_data"
    }
   ],
   "source": [
    "x_index = 0\n",
    "y_index = 1\n",
    "\n",
    "# this formatter will label the colorbar with the correct target names\n",
    "formatter = plt.FuncFormatter(lambda i, *args: iris.target_names[int(i)])\n",
    "# \n",
    "plot_x = np.linspace(0,10,100)\n",
    "plot_y0 = -(theta[0][0]+theta[0][1]*plot_x) / theta[0][2]\n",
    "plot_y1 = -(theta[1][0]+theta[1][1]*plot_x) / theta[1][2]\n",
    "plot_y2 = -(theta[2][0]+theta[2][1]*plot_x) / theta[2][2]\n",
    "\n",
    "plt.figure(figsize=(5, 4))\n",
    "plt.scatter(X_train[:, x_index], X_train[:, y_index], c=y_train)\n",
    "plt.colorbar(ticks=[0, 1, 2], format=formatter)\n",
    "plt.plot(plot_x, plot_y0)\n",
    "plt.plot(plot_x, plot_y1)\n",
    "plt.plot(plot_x, plot_y2)\n",
    "plt.xlabel(iris.feature_names[x_index])\n",
    "plt.ylabel(iris.feature_names[y_index])\n",
    "\n",
    "plt.tight_layout()\n",
    "plt.show()"
   ]
  },
  {
   "cell_type": "markdown",
   "metadata": {},
   "source": [
    "## 8. Test Logistic Regression model on the test data, and calculate the accuracy"
   ]
  },
  {
   "cell_type": "code",
   "execution_count": 8,
   "metadata": {},
   "outputs": [
    {
     "name": "stdout",
     "output_type": "stream",
     "text": [
      "accuracy: 0.6333333333333333\n"
     ]
    }
   ],
   "source": [
    "p = log_regu.predict(X_test)\n",
    "\n",
    "# Menghitung akurasi\n",
    "count = 0\n",
    "for p_i, y_i in zip(p, y_test):\n",
    "    if p_i == y_i:\n",
    "        count += 1\n",
    "\n",
    "print(f'accuracy: {count / len(y_test)}')"
   ]
  },
  {
   "cell_type": "markdown",
   "metadata": {},
   "source": [
    "## 9. Plot cost function using matplotlib (cost function vs iteration)"
   ]
  },
  {
   "cell_type": "code",
   "execution_count": 9,
   "metadata": {},
   "outputs": [
    {
     "data": {
      "image/png": "[encoded data removed]",
      "text/plain": [
       "<Figure size 360x288 with 1 Axes>"
      ]
     },
     "metadata": {
      "needs_background": "light"
     },
     "output_type": "display_data"
    }
   ],
   "source": [
    "plt.figure(figsize=(5, 4))\n",
    "plt.plot(range(len(log_regu.cost_score[0])), log_regu.cost_score[0])\n",
    "plt.plot(range(len(log_regu.cost_score[0])), log_regu.cost_score[1])\n",
    "plt.plot(range(len(log_regu.cost_score[0])), log_regu.cost_score[2])\n",
    "plt.tight_layout()\n",
    "plt.show()"
   ]
  },
  {
   "cell_type": "markdown",
   "metadata": {},
   "source": [
    "## 10. Compare Logistic Regression model with and without regularisation"
   ]
  },
  {
   "cell_type": "code",
   "execution_count": 10,
   "metadata": {},
   "outputs": [
    {
     "name": "stdout",
     "output_type": "stream",
     "text": [
      "Theta 0\n"
     ]
    },
    {
     "data": {
      "text/html": [
       "<div>\n",
       "<style scoped>\n",
       "    .dataframe tbody tr th:only-of-type {\n",
       "        vertical-align: middle;\n",
       "    }\n",
       "\n",
       "    .dataframe tbody tr th {\n",
       "        vertical-align: top;\n",
       "    }\n",
       "\n",
       "    .dataframe thead th {\n",
       "        text-align: right;\n",
       "    }\n",
       "</style>\n",
       "<table border=\"1\" class=\"dataframe\">\n",
       "  <thead>\n",
       "    <tr style=\"text-align: right;\">\n",
       "      <th></th>\n",
       "      <th>theta-with-regu</th>\n",
       "      <th>theta-without-regu</th>\n",
       "    </tr>\n",
       "  </thead>\n",
       "  <tbody>\n",
       "    <tr>\n",
       "      <th>0</th>\n",
       "      <td>0.170739</td>\n",
       "      <td>-0.009013</td>\n",
       "    </tr>\n",
       "    <tr>\n",
       "      <th>1</th>\n",
       "      <td>-0.698930</td>\n",
       "      <td>-0.080730</td>\n",
       "    </tr>\n",
       "    <tr>\n",
       "      <th>2</th>\n",
       "      <td>1.005323</td>\n",
       "      <td>-0.014681</td>\n",
       "    </tr>\n",
       "  </tbody>\n",
       "</table>\n",
       "</div>"
      ],
      "text/plain": [
       "   theta-with-regu  theta-without-regu\n",
       "0         0.170739           -0.009013\n",
       "1        -0.698930           -0.080730\n",
       "2         1.005323           -0.014681"
      ]
     },
     "execution_count": 10,
     "metadata": {},
     "output_type": "execute_result"
    }
   ],
   "source": [
    "log = LogisticRegression(lr=0.001, n_iter=100, regu=None)\n",
    "theta_w_r = log.fit(X_train, y_train)\n",
    "\n",
    "theta_w_r = np.array(theta_w_r)\n",
    "theta = np.array(theta)\n",
    "\n",
    "print('Theta 0')\n",
    "pandas.DataFrame({'theta-with-regu': theta[0], 'theta-without-regu': theta_w_r[0]}, columns = ['theta-with-regu', 'theta-without-regu'])"
   ]
  },
  {
   "cell_type": "code",
   "execution_count": 11,
   "metadata": {},
   "outputs": [
    {
     "name": "stdout",
     "output_type": "stream",
     "text": [
      "Theta 1\n"
     ]
    },
    {
     "data": {
      "text/html": [
       "<div>\n",
       "<style scoped>\n",
       "    .dataframe tbody tr th:only-of-type {\n",
       "        vertical-align: middle;\n",
       "    }\n",
       "\n",
       "    .dataframe tbody tr th {\n",
       "        vertical-align: top;\n",
       "    }\n",
       "\n",
       "    .dataframe thead th {\n",
       "        text-align: right;\n",
       "    }\n",
       "</style>\n",
       "<table border=\"1\" class=\"dataframe\">\n",
       "  <thead>\n",
       "    <tr style=\"text-align: right;\">\n",
       "      <th></th>\n",
       "      <th>theta-with-regu</th>\n",
       "      <th>theta-without-regu</th>\n",
       "    </tr>\n",
       "  </thead>\n",
       "  <tbody>\n",
       "    <tr>\n",
       "      <th>0</th>\n",
       "      <td>-0.008817</td>\n",
       "      <td>-0.010055</td>\n",
       "    </tr>\n",
       "    <tr>\n",
       "      <th>1</th>\n",
       "      <td>0.156097</td>\n",
       "      <td>-0.054691</td>\n",
       "    </tr>\n",
       "    <tr>\n",
       "      <th>2</th>\n",
       "      <td>-0.531096</td>\n",
       "      <td>-0.040214</td>\n",
       "    </tr>\n",
       "  </tbody>\n",
       "</table>\n",
       "</div>"
      ],
      "text/plain": [
       "   theta-with-regu  theta-without-regu\n",
       "0        -0.008817           -0.010055\n",
       "1         0.156097           -0.054691\n",
       "2        -0.531096           -0.040214"
      ]
     },
     "execution_count": 11,
     "metadata": {},
     "output_type": "execute_result"
    }
   ],
   "source": [
    "print('Theta 1')\n",
    "pandas.DataFrame({'theta-with-regu': theta[1], 'theta-without-regu': theta_w_r[1]}, columns = ['theta-with-regu', 'theta-without-regu'])"
   ]
  },
  {
   "cell_type": "code",
   "execution_count": 12,
   "metadata": {},
   "outputs": [
    {
     "name": "stdout",
     "output_type": "stream",
     "text": [
      "Theta 2\n"
     ]
    },
    {
     "data": {
      "text/html": [
       "<div>\n",
       "<style scoped>\n",
       "    .dataframe tbody tr th:only-of-type {\n",
       "        vertical-align: middle;\n",
       "    }\n",
       "\n",
       "    .dataframe tbody tr th {\n",
       "        vertical-align: top;\n",
       "    }\n",
       "\n",
       "    .dataframe thead th {\n",
       "        text-align: right;\n",
       "    }\n",
       "</style>\n",
       "<table border=\"1\" class=\"dataframe\">\n",
       "  <thead>\n",
       "    <tr style=\"text-align: right;\">\n",
       "      <th></th>\n",
       "      <th>theta-with-regu</th>\n",
       "      <th>theta-without-regu</th>\n",
       "    </tr>\n",
       "  </thead>\n",
       "  <tbody>\n",
       "    <tr>\n",
       "      <th>0</th>\n",
       "      <td>-0.291840</td>\n",
       "      <td>-0.011251</td>\n",
       "    </tr>\n",
       "    <tr>\n",
       "      <th>1</th>\n",
       "      <td>0.296109</td>\n",
       "      <td>-0.041444</td>\n",
       "    </tr>\n",
       "    <tr>\n",
       "      <th>2</th>\n",
       "      <td>-0.671958</td>\n",
       "      <td>-0.037877</td>\n",
       "    </tr>\n",
       "  </tbody>\n",
       "</table>\n",
       "</div>"
      ],
      "text/plain": [
       "   theta-with-regu  theta-without-regu\n",
       "0        -0.291840           -0.011251\n",
       "1         0.296109           -0.041444\n",
       "2        -0.671958           -0.037877"
      ]
     },
     "execution_count": 12,
     "metadata": {},
     "output_type": "execute_result"
    }
   ],
   "source": [
    "print('Theta 2')\n",
    "pandas.DataFrame({'theta-with-regu': theta[2], 'theta-without-regu': theta_w_r[2]}, columns = ['theta-with-regu', 'theta-without-regu'])"
   ]
  }
 ],
 "metadata": {
  "kernelspec": {
   "display_name": "Python 3",
   "language": "python",
   "name": "python3"
  },
  "language_info": {
   "codemirror_mode": {
    "name": "ipython",
    "version": 3
   },
   "file_extension": ".py",
   "mimetype": "text/x-python",
   "name": "python",
   "nbconvert_exporter": "python",
   "pygments_lexer": "ipython3",
   "version": "3.9.2"
  }
 },
 "nbformat": 4,
 "nbformat_minor": 2
}
